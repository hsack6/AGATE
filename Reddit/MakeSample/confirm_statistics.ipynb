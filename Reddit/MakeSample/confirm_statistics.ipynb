{
 "cells": [
  {
   "cell_type": "code",
   "execution_count": 1,
   "metadata": {},
   "outputs": [],
   "source": [
    "import numpy as np\n",
    "import random\n",
    "import networkx as nx\n",
    "from matplotlib import pyplot as plt\n",
    "import pandas as pd\n",
    "import copy\n",
    "import os\n",
    "import sys\n",
    "import networkx as nx\n",
    "import seaborn as sns\n",
    "from scipy.io import mmread\n",
    "sns.set(style='darkgrid')\n",
    "sns.set_style(style='whitegrid')"
   ]
  },
  {
   "cell_type": "code",
   "execution_count": 2,
   "metadata": {},
   "outputs": [],
   "source": [
    "# moduleー\n",
    "current_dir = os.path.dirname(os.path.abspath(\"__file__\"))\n",
    "sys.path.append( str(current_dir) + '/../' )"
   ]
  },
  {
   "cell_type": "code",
   "execution_count": 3,
   "metadata": {},
   "outputs": [],
   "source": [
    "from setting_param import MakeSample_prediction_num_of_edge_InputDir\n",
    "from setting_param import L\n",
    "InputDir = MakeSample_prediction_num_of_edge_InputDir"
   ]
  },
  {
   "cell_type": "code",
   "execution_count": 4,
   "metadata": {},
   "outputs": [
    {
     "data": {
      "text/plain": [
       "(8077, 16)"
      ]
     },
     "execution_count": 4,
     "metadata": {},
     "output_type": "execute_result"
    }
   ],
   "source": [
    "# READ EXIST_TABLE\n",
    "EXIST_TABLE = np.load(InputDir + '/exist_table.npy')\n",
    "EXIST_TABLE.shape"
   ]
  },
  {
   "cell_type": "code",
   "execution_count": 5,
   "metadata": {},
   "outputs": [],
   "source": [
    "def ExistNodeList(ts):\n",
    "    assert ts >= 0, \"ts < 0 [referrence error]\"\n",
    "    return np.where(EXIST_TABLE[:, ts]==1)[0]\n",
    "\n",
    "def GetAppearedNodes(ts):\n",
    "    return set(ExistNodeList(ts)) - set(ExistNodeList(ts-1))\n",
    "\n",
    "def GetObservedNodes(ts, L):\n",
    "    U = set()\n",
    "    for i in range(L):\n",
    "        U |= set(ExistNodeList(ts-i))\n",
    "    return U\n",
    "\n",
    "def GetNodes(ts, L, node_type):\n",
    "    if node_type=='all':\n",
    "        node_set = set(ExistNodeList(ts))\n",
    "    elif node_type=='stay':\n",
    "        node_set = set(ExistNodeList(ts-1)) & set(ExistNodeList(ts))\n",
    "    elif node_type=='lost':\n",
    "        node_set = set(ExistNodeList(ts-1)) - set(ExistNodeList(ts))\n",
    "    elif node_type=='return':\n",
    "        node_set = GetAppearedNodes(ts) - (GetAppearedNodes(ts) - GetObservedNodes(ts-1, L))\n",
    "    elif node_type=='new':\n",
    "        node_set = GetAppearedNodes(ts) - GetObservedNodes(ts-1, L)\n",
    "        node_set |= GetNodes(ts, L, 'return')\n",
    "    return node_set"
   ]
  },
  {
   "cell_type": "code",
   "execution_count": 6,
   "metadata": {},
   "outputs": [],
   "source": [
    "def Nx(ts):\n",
    "    return  nx.from_numpy_matrix(mmread(InputDir + '/adjacency' + str(ts)).toarray())\n",
    "\n",
    "def SubNxNew(ts, L):\n",
    "    return nx.Graph(Nx(ts).edges(GetNodes(ts, L, 'new')))\n",
    "\n",
    "def SubNxLost(ts, L):\n",
    "    return nx.Graph(Nx(ts-1).edges(GetNodes(ts, L, 'lost')))\n",
    "\n",
    "def GetEdges(ts, L, edge_type):\n",
    "    G_1 = Nx(ts)\n",
    "    if edge_type == \"all\":\n",
    "        edge_set = G_1.edges\n",
    "    elif edge_type == 'stay':\n",
    "        G_0 = Nx(ts - 1)\n",
    "        edge_set = G_0.edges & G_1.edges\n",
    "    elif edge_type == \"appeared\":\n",
    "        G_0 = Nx(ts - 1)\n",
    "        edge_set = G_1.edges - G_0.edges - SubNxNew(ts, L).edges\n",
    "    elif edge_type == \"disappeared\":\n",
    "        G_0 = Nx(ts - 1)\n",
    "        edge_set = G_0.edges - G_1.edges - SubNxLost(ts, L).edges\n",
    "    return edge_set"
   ]
  },
  {
   "cell_type": "code",
   "execution_count": 7,
   "metadata": {},
   "outputs": [],
   "source": [
    "def TsSplit(ts, L):\n",
    "    ts_train = [(ts+l) for l in range(L)]\n",
    "    ts_test = ts_train[-1]+1\n",
    "    ts_all = ts_train.copy()\n",
    "    ts_all.extend([ts_test])\n",
    "    return ts_train, ts_test, ts_all"
   ]
  },
  {
   "cell_type": "code",
   "execution_count": 8,
   "metadata": {},
   "outputs": [
    {
     "data": {
      "text/plain": [
       "22375"
      ]
     },
     "execution_count": 8,
     "metadata": {},
     "output_type": "execute_result"
    }
   ],
   "source": [
    "links = []\n",
    "for ts in range(L, EXIST_TABLE.shape[1]):\n",
    "    links.extend(list(GetEdges(ts, L, 'all')))\n",
    "len(set(links))"
   ]
  },
  {
   "cell_type": "code",
   "execution_count": null,
   "metadata": {},
   "outputs": [],
   "source": []
  },
  {
   "cell_type": "code",
   "execution_count": 9,
   "metadata": {},
   "outputs": [
    {
     "data": {
      "text/plain": [
       "23554"
      ]
     },
     "execution_count": 9,
     "metadata": {},
     "output_type": "execute_result"
    }
   ],
   "source": [
    "#  (0, 1return node)\n",
    "n_links = []\n",
    "for ts in range(L-1, EXIST_TABLE.shape[1]):\n",
    "    n_links.extend(list(GetEdges(ts, L, 'all')))\n",
    "len(set(n_links))"
   ]
  },
  {
   "cell_type": "code",
   "execution_count": 10,
   "metadata": {},
   "outputs": [
    {
     "data": {
      "text/plain": [
       "7756"
      ]
     },
     "execution_count": 10,
     "metadata": {},
     "output_type": "execute_result"
    }
   ],
   "source": [
    "#  (0, 1return node)\n",
    "n_nodes = []\n",
    "for ts in range(L-1, EXIST_TABLE.shape[1]):\n",
    "    n_nodes.extend((GetNodes(ts, L, 'all')))\n",
    "len(set(n_nodes))"
   ]
  },
  {
   "cell_type": "code",
   "execution_count": 11,
   "metadata": {},
   "outputs": [
    {
     "data": {
      "text/plain": [
       "[2518,\n",
       " 2618,\n",
       " 2620,\n",
       " 2614,\n",
       " 2640,\n",
       " 2611,\n",
       " 2720,\n",
       " 2623,\n",
       " 2885,\n",
       " 2597,\n",
       " 2935,\n",
       " 2690,\n",
       " 2777,\n",
       " 2761]"
      ]
     },
     "execution_count": 11,
     "metadata": {},
     "output_type": "execute_result"
    }
   ],
   "source": [
    "n_links = []\n",
    "for ts in range(L-1, EXIST_TABLE.shape[1]):\n",
    "    n_links.append(len(GetEdges(ts, L, 'all')))\n",
    "n_links"
   ]
  },
  {
   "cell_type": "code",
   "execution_count": 12,
   "metadata": {},
   "outputs": [
    {
     "data": {
      "text/plain": [
       "[1821,\n",
       " 1901,\n",
       " 1923,\n",
       " 1890,\n",
       " 1983,\n",
       " 1954,\n",
       " 2037,\n",
       " 2000,\n",
       " 2061,\n",
       " 1940,\n",
       " 2123,\n",
       " 2082,\n",
       " 2084,\n",
       " 2012]"
      ]
     },
     "execution_count": 12,
     "metadata": {},
     "output_type": "execute_result"
    }
   ],
   "source": [
    "n_nodes = []\n",
    "for ts in range(L-1, EXIST_TABLE.shape[1]):\n",
    "    n_nodes.append(len(GetNodes(ts, L, 'all')))\n",
    "n_nodes"
   ]
  },
  {
   "cell_type": "code",
   "execution_count": null,
   "metadata": {},
   "outputs": [],
   "source": []
  }
 ],
 "metadata": {
  "kernelspec": {
   "display_name": "Python 3",
   "language": "python",
   "name": "python3"
  },
  "language_info": {
   "codemirror_mode": {
    "name": "ipython",
    "version": 3
   },
   "file_extension": ".py",
   "mimetype": "text/x-python",
   "name": "python",
   "nbconvert_exporter": "python",
   "pygments_lexer": "ipython3",
   "version": "3.7.1"
  }
 },
 "nbformat": 4,
 "nbformat_minor": 2
}
