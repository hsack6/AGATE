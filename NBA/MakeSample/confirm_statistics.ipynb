{
 "cells": [
  {
   "cell_type": "code",
   "execution_count": 1,
   "metadata": {},
   "outputs": [],
   "source": [
    "import numpy as np\n",
    "import random\n",
    "import networkx as nx\n",
    "from matplotlib import pyplot as plt\n",
    "import pandas as pd\n",
    "import copy\n",
    "import os\n",
    "import sys\n",
    "import networkx as nx\n",
    "import seaborn as sns\n",
    "sns.set(style='darkgrid')\n",
    "sns.set_style(style='whitegrid')"
   ]
  },
  {
   "cell_type": "code",
   "execution_count": 2,
   "metadata": {},
   "outputs": [],
   "source": [
    "# moduleー\n",
    "current_dir = os.path.dirname(os.path.abspath(\"__file__\"))\n",
    "sys.path.append( str(current_dir) + '/../' )"
   ]
  },
  {
   "cell_type": "code",
   "execution_count": 3,
   "metadata": {},
   "outputs": [],
   "source": [
    "from setting_param import MakeSample_prediction_num_of_edge_InputDir\n",
    "from setting_param import L\n",
    "InputDir = MakeSample_prediction_num_of_edge_InputDir"
   ]
  },
  {
   "cell_type": "code",
   "execution_count": 4,
   "metadata": {},
   "outputs": [
    {
     "data": {
      "text/plain": [
       "(3859, 68)"
      ]
     },
     "execution_count": 4,
     "metadata": {},
     "output_type": "execute_result"
    }
   ],
   "source": [
    "# READ EXIST_TABLE\n",
    "EXIST_TABLE = np.load(InputDir + '/exist_table.npy')\n",
    "EXIST_TABLE.shape"
   ]
  },
  {
   "cell_type": "code",
   "execution_count": 5,
   "metadata": {},
   "outputs": [],
   "source": [
    "def ExistNodeList(ts):\n",
    "    assert ts >= 0, \"ts < 0 [referrence error]\"\n",
    "    return np.where(EXIST_TABLE[:, ts]==1)[0]\n",
    "\n",
    "def GetAppearedNodes(ts):\n",
    "    return set(ExistNodeList(ts)) - set(ExistNodeList(ts-1))\n",
    "\n",
    "def GetObservedNodes(ts, L):\n",
    "    U = set()\n",
    "    for i in range(L):\n",
    "        U |= set(ExistNodeList(ts-i))\n",
    "    return U\n",
    "\n",
    "def GetNodes(ts, L, node_type):\n",
    "    if node_type=='all':\n",
    "        node_set = set(ExistNodeList(ts))\n",
    "    elif node_type=='stay':\n",
    "        node_set = set(ExistNodeList(ts-1)) & set(ExistNodeList(ts))\n",
    "    elif node_type=='lost':\n",
    "        node_set = set(ExistNodeList(ts-1)) - set(ExistNodeList(ts))\n",
    "    elif node_type=='return':\n",
    "        node_set = GetAppearedNodes(ts) - (GetAppearedNodes(ts) - GetObservedNodes(ts-1, L))\n",
    "    elif node_type=='new':\n",
    "        node_set = GetAppearedNodes(ts) - GetObservedNodes(ts-1, L)\n",
    "        node_set |= GetNodes(ts, L, 'return')\n",
    "    return node_set"
   ]
  },
  {
   "cell_type": "code",
   "execution_count": 6,
   "metadata": {},
   "outputs": [],
   "source": [
    "def Nx(ts):\n",
    "    return  nx.from_numpy_matrix(np.load(InputDir + '/adjacency' + str(ts) + '.npy'))\n",
    "\n",
    "def SubNxNew(ts, L):\n",
    "    return nx.Graph(Nx(ts).edges(GetNodes(ts, L, 'new')))\n",
    "\n",
    "def SubNxLost(ts, L):\n",
    "    return nx.Graph(Nx(ts-1).edges(GetNodes(ts, L, 'lost')))\n",
    "\n",
    "def GetEdges(ts, L, edge_type):\n",
    "    G_1 = Nx(ts)\n",
    "    if edge_type == \"all\":\n",
    "        edge_set = G_1.edges\n",
    "    elif edge_type == 'stay':\n",
    "        G_0 = Nx(ts - 1)\n",
    "        edge_set = G_0.edges & G_1.edges\n",
    "    elif edge_type == \"appeared\":\n",
    "        G_0 = Nx(ts - 1)\n",
    "        edge_set = G_1.edges - G_0.edges - SubNxNew(ts, L).edges\n",
    "    elif edge_type == \"disappeared\":\n",
    "        G_0 = Nx(ts - 1)\n",
    "        edge_set = G_0.edges - G_1.edges - SubNxLost(ts, L).edges\n",
    "    return edge_set"
   ]
  },
  {
   "cell_type": "code",
   "execution_count": 7,
   "metadata": {},
   "outputs": [],
   "source": [
    "def TsSplit(ts, L):\n",
    "    ts_train = [(ts+l) for l in range(L)]\n",
    "    ts_test = ts_train[-1]+1\n",
    "    ts_all = ts_train.copy()\n",
    "    ts_all.extend([ts_test])\n",
    "    return ts_train, ts_test, ts_all"
   ]
  },
  {
   "cell_type": "code",
   "execution_count": 19,
   "metadata": {},
   "outputs": [
    {
     "data": {
      "text/plain": [
       "94861"
      ]
     },
     "execution_count": 19,
     "metadata": {},
     "output_type": "execute_result"
    }
   ],
   "source": [
    "links = []\n",
    "for ts in range(L, EXIST_TABLE.shape[1]):\n",
    "    links.extend(list(GetEdges(ts, L, 'all')))\n",
    "len(set(links))"
   ]
  },
  {
   "cell_type": "code",
   "execution_count": null,
   "metadata": {},
   "outputs": [],
   "source": []
  },
  {
   "cell_type": "code",
   "execution_count": 23,
   "metadata": {},
   "outputs": [
    {
     "data": {
      "text/plain": [
       "95203"
      ]
     },
     "execution_count": 23,
     "metadata": {},
     "output_type": "execute_result"
    }
   ],
   "source": [
    "#  (0, 1return node)\n",
    "n_links = []\n",
    "for ts in range(L-1, EXIST_TABLE.shape[1]):\n",
    "    n_links.extend(list(GetEdges(ts, L, 'all')))\n",
    "len(set(n_links))"
   ]
  },
  {
   "cell_type": "code",
   "execution_count": 24,
   "metadata": {},
   "outputs": [
    {
     "data": {
      "text/plain": [
       "3781"
      ]
     },
     "execution_count": 24,
     "metadata": {},
     "output_type": "execute_result"
    }
   ],
   "source": [
    "#  (0, 1return node)\n",
    "n_nodes = []\n",
    "for ts in range(L-1, EXIST_TABLE.shape[1]):\n",
    "    n_nodes.extend((GetNodes(ts, L, 'all')))\n",
    "len(set(n_nodes))"
   ]
  },
  {
   "cell_type": "code",
   "execution_count": null,
   "metadata": {},
   "outputs": [],
   "source": []
  },
  {
   "cell_type": "code",
   "execution_count": 25,
   "metadata": {},
   "outputs": [
    {
     "data": {
      "text/plain": [
       "[537,\n",
       " 657,\n",
       " 530,\n",
       " 493,\n",
       " 479,\n",
       " 535,\n",
       " 572,\n",
       " 486,\n",
       " 537,\n",
       " 502,\n",
       " 611,\n",
       " 713,\n",
       " 633,\n",
       " 667,\n",
       " 638,\n",
       " 697,\n",
       " 878,\n",
       " 928,\n",
       " 961,\n",
       " 1281,\n",
       " 1271,\n",
       " 1260,\n",
       " 1353,\n",
       " 1429,\n",
       " 1469,\n",
       " 1842,\n",
       " 1727,\n",
       " 1663,\n",
       " 1748,\n",
       " 1884,\n",
       " 2034,\n",
       " 2038,\n",
       " 1954,\n",
       " 2091,\n",
       " 2161,\n",
       " 2307,\n",
       " 2265,\n",
       " 2350,\n",
       " 2534,\n",
       " 2607,\n",
       " 2590,\n",
       " 2664,\n",
       " 2827,\n",
       " 2883,\n",
       " 2989,\n",
       " 3176,\n",
       " 3130,\n",
       " 3138,\n",
       " 3142,\n",
       " 3162,\n",
       " 3149,\n",
       " 2979,\n",
       " 3180,\n",
       " 3392,\n",
       " 3285,\n",
       " 3284,\n",
       " 3215,\n",
       " 3107,\n",
       " 3067,\n",
       " 3200,\n",
       " 3626,\n",
       " 3471,\n",
       " 3659,\n",
       " 3823,\n",
       " 3572,\n",
       " 3719]"
      ]
     },
     "execution_count": 25,
     "metadata": {},
     "output_type": "execute_result"
    }
   ],
   "source": [
    "n_links = []\n",
    "for ts in range(L-1, EXIST_TABLE.shape[1]):\n",
    "    n_links.append(len(GetEdges(ts, L, 'all')))\n",
    "n_links"
   ]
  },
  {
   "cell_type": "code",
   "execution_count": 26,
   "metadata": {},
   "outputs": [
    {
     "data": {
      "text/plain": [
       "[94,\n",
       " 104,\n",
       " 95,\n",
       " 92,\n",
       " 91,\n",
       " 96,\n",
       " 99,\n",
       " 92,\n",
       " 96,\n",
       " 93,\n",
       " 108,\n",
       " 117,\n",
       " 111,\n",
       " 114,\n",
       " 111,\n",
       " 123,\n",
       " 151,\n",
       " 168,\n",
       " 171,\n",
       " 217,\n",
       " 216,\n",
       " 215,\n",
       " 222,\n",
       " 235,\n",
       " 238,\n",
       " 295,\n",
       " 285,\n",
       " 280,\n",
       " 287,\n",
       " 304,\n",
       " 316,\n",
       " 316,\n",
       " 310,\n",
       " 320,\n",
       " 325,\n",
       " 335,\n",
       " 332,\n",
       " 353,\n",
       " 381,\n",
       " 387,\n",
       " 386,\n",
       " 390,\n",
       " 403,\n",
       " 407,\n",
       " 429,\n",
       " 441,\n",
       " 439,\n",
       " 440,\n",
       " 439,\n",
       " 441,\n",
       " 440,\n",
       " 428,\n",
       " 442,\n",
       " 464,\n",
       " 458,\n",
       " 458,\n",
       " 451,\n",
       " 445,\n",
       " 442,\n",
       " 452,\n",
       " 478,\n",
       " 469,\n",
       " 482,\n",
       " 492,\n",
       " 476,\n",
       " 486]"
      ]
     },
     "execution_count": 26,
     "metadata": {},
     "output_type": "execute_result"
    }
   ],
   "source": [
    "n_nodes = []\n",
    "for ts in range(L-1, EXIST_TABLE.shape[1]):\n",
    "    n_nodes.append(len(GetNodes(ts, L, 'all')))\n",
    "n_nodes"
   ]
  },
  {
   "cell_type": "code",
   "execution_count": null,
   "metadata": {},
   "outputs": [],
   "source": []
  }
 ],
 "metadata": {
  "kernelspec": {
   "display_name": "Python 3",
   "language": "python",
   "name": "python3"
  },
  "language_info": {
   "codemirror_mode": {
    "name": "ipython",
    "version": 3
   },
   "file_extension": ".py",
   "mimetype": "text/x-python",
   "name": "python",
   "nbconvert_exporter": "python",
   "pygments_lexer": "ipython3",
   "version": "3.7.1"
  }
 },
 "nbformat": 4,
 "nbformat_minor": 2
}
